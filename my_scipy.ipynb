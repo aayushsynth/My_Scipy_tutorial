{
 "cells": [
  {
   "cell_type": "code",
   "execution_count": 1,
   "metadata": {},
   "outputs": [],
   "source": [
    "import numpy as np\n",
    "import matplotlib.pyplot as plt\n",
    "import scipy as sp"
   ]
  },
  {
   "cell_type": "code",
   "execution_count": 2,
   "metadata": {},
   "outputs": [],
   "source": [
    "from scipy.optimize import minimize"
   ]
  },
  {
   "cell_type": "code",
   "execution_count": 3,
   "metadata": {},
   "outputs": [],
   "source": [
    "def f(x):\n",
    "    return (x-2)**2\n",
    "\n",
    "res = minimize(f, x0=2)"
   ]
  },
  {
   "cell_type": "code",
   "execution_count": 4,
   "metadata": {},
   "outputs": [
    {
     "data": {
      "text/plain": [
       "  message: Optimization terminated successfully.\n",
       "  success: True\n",
       "   status: 0\n",
       "      fun: 0.0\n",
       "        x: [ 2.000e+00]\n",
       "      nit: 0\n",
       "      jac: [ 1.490e-08]\n",
       " hess_inv: [[1]]\n",
       "     nfev: 2\n",
       "     njev: 1"
      ]
     },
     "execution_count": 4,
     "metadata": {},
     "output_type": "execute_result"
    }
   ],
   "source": [
    "res"
   ]
  },
  {
   "cell_type": "code",
   "execution_count": 5,
   "metadata": {},
   "outputs": [
    {
     "data": {
      "text/plain": [
       "array([2.])"
      ]
     },
     "execution_count": 5,
     "metadata": {},
     "output_type": "execute_result"
    }
   ],
   "source": [
    "res.x"
   ]
  },
  {
   "cell_type": "code",
   "execution_count": 6,
   "metadata": {},
   "outputs": [
    {
     "name": "stdout",
     "output_type": "stream",
     "text": [
      "\u001b[1;31mSignature:\u001b[0m\n",
      "\u001b[0mminimize\u001b[0m\u001b[1;33m(\u001b[0m\u001b[1;33m\n",
      "\u001b[0m    \u001b[0mfun\u001b[0m\u001b[1;33m,\u001b[0m\u001b[1;33m\n",
      "\u001b[0m    \u001b[0mx0\u001b[0m\u001b[1;33m,\u001b[0m\u001b[1;33m\n",
      "\u001b[0m    \u001b[0margs\u001b[0m\u001b[1;33m=\u001b[0m\u001b[1;33m(\u001b[0m\u001b[1;33m)\u001b[0m\u001b[1;33m,\u001b[0m\u001b[1;33m\n",
      "\u001b[0m    \u001b[0mmethod\u001b[0m\u001b[1;33m=\u001b[0m\u001b[1;32mNone\u001b[0m\u001b[1;33m,\u001b[0m\u001b[1;33m\n",
      "\u001b[0m    \u001b[0mjac\u001b[0m\u001b[1;33m=\u001b[0m\u001b[1;32mNone\u001b[0m\u001b[1;33m,\u001b[0m\u001b[1;33m\n",
      "\u001b[0m    \u001b[0mhess\u001b[0m\u001b[1;33m=\u001b[0m\u001b[1;32mNone\u001b[0m\u001b[1;33m,\u001b[0m\u001b[1;33m\n",
      "\u001b[0m    \u001b[0mhessp\u001b[0m\u001b[1;33m=\u001b[0m\u001b[1;32mNone\u001b[0m\u001b[1;33m,\u001b[0m\u001b[1;33m\n",
      "\u001b[0m    \u001b[0mbounds\u001b[0m\u001b[1;33m=\u001b[0m\u001b[1;32mNone\u001b[0m\u001b[1;33m,\u001b[0m\u001b[1;33m\n",
      "\u001b[0m    \u001b[0mconstraints\u001b[0m\u001b[1;33m=\u001b[0m\u001b[1;33m(\u001b[0m\u001b[1;33m)\u001b[0m\u001b[1;33m,\u001b[0m\u001b[1;33m\n",
      "\u001b[0m    \u001b[0mtol\u001b[0m\u001b[1;33m=\u001b[0m\u001b[1;32mNone\u001b[0m\u001b[1;33m,\u001b[0m\u001b[1;33m\n",
      "\u001b[0m    \u001b[0mcallback\u001b[0m\u001b[1;33m=\u001b[0m\u001b[1;32mNone\u001b[0m\u001b[1;33m,\u001b[0m\u001b[1;33m\n",
      "\u001b[0m    \u001b[0moptions\u001b[0m\u001b[1;33m=\u001b[0m\u001b[1;32mNone\u001b[0m\u001b[1;33m,\u001b[0m\u001b[1;33m\n",
      "\u001b[0m\u001b[1;33m)\u001b[0m\u001b[1;33m\u001b[0m\u001b[1;33m\u001b[0m\u001b[0m\n",
      "\u001b[1;31mDocstring:\u001b[0m\n",
      "Minimization of scalar function of one or more variables.\n",
      "\n",
      "Parameters\n",
      "----------\n",
      "fun : callable\n",
      "    The objective function to be minimized.\n",
      "\n",
      "        ``fun(x, *args) -> float``\n",
      "\n",
      "    where ``x`` is a 1-D array with shape (n,) and ``args``\n",
      "    is a tuple of the fixed parameters needed to completely\n",
      "    specify the function.\n",
      "x0 : ndarray, shape (n,)\n",
      "    Initial guess. Array of real elements of size (n,),\n",
      "    where ``n`` is the number of independent variables.\n",
      "args : tuple, optional\n",
      "    Extra arguments passed to the objective function and its\n",
      "    derivatives (`fun`, `jac` and `hess` functions).\n",
      "method : str or callable, optional\n",
      "    Type of solver.  Should be one of\n",
      "\n",
      "        - 'Nelder-Mead' :ref:`(see here) <optimize.minimize-neldermead>`\n",
      "        - 'Powell'      :ref:`(see here) <optimize.minimize-powell>`\n",
      "        - 'CG'          :ref:`(see here) <optimize.minimize-cg>`\n",
      "        - 'BFGS'        :ref:`(see here) <optimize.minimize-bfgs>`\n",
      "        - 'Newton-CG'   :ref:`(see here) <optimize.minimize-newtoncg>`\n",
      "        - 'L-BFGS-B'    :ref:`(see here) <optimize.minimize-lbfgsb>`\n",
      "        - 'TNC'         :ref:`(see here) <optimize.minimize-tnc>`\n",
      "        - 'COBYLA'      :ref:`(see here) <optimize.minimize-cobyla>`\n",
      "        - 'SLSQP'       :ref:`(see here) <optimize.minimize-slsqp>`\n",
      "        - 'trust-constr':ref:`(see here) <optimize.minimize-trustconstr>`\n",
      "        - 'dogleg'      :ref:`(see here) <optimize.minimize-dogleg>`\n",
      "        - 'trust-ncg'   :ref:`(see here) <optimize.minimize-trustncg>`\n",
      "        - 'trust-exact' :ref:`(see here) <optimize.minimize-trustexact>`\n",
      "        - 'trust-krylov' :ref:`(see here) <optimize.minimize-trustkrylov>`\n",
      "        - custom - a callable object, see below for description.\n",
      "\n",
      "    If not given, chosen to be one of ``BFGS``, ``L-BFGS-B``, ``SLSQP``,\n",
      "    depending on whether or not the problem has constraints or bounds.\n",
      "jac : {callable,  '2-point', '3-point', 'cs', bool}, optional\n",
      "    Method for computing the gradient vector. Only for CG, BFGS,\n",
      "    Newton-CG, L-BFGS-B, TNC, SLSQP, dogleg, trust-ncg, trust-krylov,\n",
      "    trust-exact and trust-constr.\n",
      "    If it is a callable, it should be a function that returns the gradient\n",
      "    vector:\n",
      "\n",
      "        ``jac(x, *args) -> array_like, shape (n,)``\n",
      "\n",
      "    where ``x`` is an array with shape (n,) and ``args`` is a tuple with\n",
      "    the fixed parameters. If `jac` is a Boolean and is True, `fun` is\n",
      "    assumed to return a tuple ``(f, g)`` containing the objective\n",
      "    function and the gradient.\n",
      "    Methods 'Newton-CG', 'trust-ncg', 'dogleg', 'trust-exact', and\n",
      "    'trust-krylov' require that either a callable be supplied, or that\n",
      "    `fun` return the objective and gradient.\n",
      "    If None or False, the gradient will be estimated using 2-point finite\n",
      "    difference estimation with an absolute step size.\n",
      "    Alternatively, the keywords  {'2-point', '3-point', 'cs'} can be used\n",
      "    to select a finite difference scheme for numerical estimation of the\n",
      "    gradient with a relative step size. These finite difference schemes\n",
      "    obey any specified `bounds`.\n",
      "hess : {callable, '2-point', '3-point', 'cs', HessianUpdateStrategy}, optional\n",
      "    Method for computing the Hessian matrix. Only for Newton-CG, dogleg,\n",
      "    trust-ncg, trust-krylov, trust-exact and trust-constr.\n",
      "    If it is callable, it should return the Hessian matrix:\n",
      "\n",
      "        ``hess(x, *args) -> {LinearOperator, spmatrix, array}, (n, n)``\n",
      "\n",
      "    where ``x`` is a (n,) ndarray and ``args`` is a tuple with the fixed\n",
      "    parameters.\n",
      "    The keywords {'2-point', '3-point', 'cs'} can also be used to select\n",
      "    a finite difference scheme for numerical estimation of the hessian.\n",
      "    Alternatively, objects implementing the `HessianUpdateStrategy`\n",
      "    interface can be used to approximate the Hessian. Available\n",
      "    quasi-Newton methods implementing this interface are:\n",
      "\n",
      "        - `BFGS`;\n",
      "        - `SR1`.\n",
      "\n",
      "    Not all of the options are available for each of the methods; for\n",
      "    availability refer to the notes.\n",
      "hessp : callable, optional\n",
      "    Hessian of objective function times an arbitrary vector p. Only for\n",
      "    Newton-CG, trust-ncg, trust-krylov, trust-constr.\n",
      "    Only one of `hessp` or `hess` needs to be given. If `hess` is\n",
      "    provided, then `hessp` will be ignored. `hessp` must compute the\n",
      "    Hessian times an arbitrary vector:\n",
      "\n",
      "        ``hessp(x, p, *args) ->  ndarray shape (n,)``\n",
      "\n",
      "    where ``x`` is a (n,) ndarray, ``p`` is an arbitrary vector with\n",
      "    dimension (n,) and ``args`` is a tuple with the fixed\n",
      "    parameters.\n",
      "bounds : sequence or `Bounds`, optional\n",
      "    Bounds on variables for Nelder-Mead, L-BFGS-B, TNC, SLSQP, Powell,\n",
      "    trust-constr, and COBYLA methods. There are two ways to specify the\n",
      "    bounds:\n",
      "\n",
      "        1. Instance of `Bounds` class.\n",
      "        2. Sequence of ``(min, max)`` pairs for each element in `x`. None\n",
      "           is used to specify no bound.\n",
      "\n",
      "constraints : {Constraint, dict} or List of {Constraint, dict}, optional\n",
      "    Constraints definition. Only for COBYLA, SLSQP and trust-constr.\n",
      "\n",
      "    Constraints for 'trust-constr' are defined as a single object or a\n",
      "    list of objects specifying constraints to the optimization problem.\n",
      "    Available constraints are:\n",
      "\n",
      "        - `LinearConstraint`\n",
      "        - `NonlinearConstraint`\n",
      "\n",
      "    Constraints for COBYLA, SLSQP are defined as a list of dictionaries.\n",
      "    Each dictionary with fields:\n",
      "\n",
      "        type : str\n",
      "            Constraint type: 'eq' for equality, 'ineq' for inequality.\n",
      "        fun : callable\n",
      "            The function defining the constraint.\n",
      "        jac : callable, optional\n",
      "            The Jacobian of `fun` (only for SLSQP).\n",
      "        args : sequence, optional\n",
      "            Extra arguments to be passed to the function and Jacobian.\n",
      "\n",
      "    Equality constraint means that the constraint function result is to\n",
      "    be zero whereas inequality means that it is to be non-negative.\n",
      "    Note that COBYLA only supports inequality constraints.\n",
      "tol : float, optional\n",
      "    Tolerance for termination. When `tol` is specified, the selected\n",
      "    minimization algorithm sets some relevant solver-specific tolerance(s)\n",
      "    equal to `tol`. For detailed control, use solver-specific\n",
      "    options.\n",
      "options : dict, optional\n",
      "    A dictionary of solver options. All methods except `TNC` accept the\n",
      "    following generic options:\n",
      "\n",
      "        maxiter : int\n",
      "            Maximum number of iterations to perform. Depending on the\n",
      "            method each iteration may use several function evaluations.\n",
      "\n",
      "            For `TNC` use `maxfun` instead of `maxiter`.\n",
      "        disp : bool\n",
      "            Set to True to print convergence messages.\n",
      "\n",
      "    For method-specific options, see :func:`show_options()`.\n",
      "callback : callable, optional\n",
      "    A callable called after each iteration.\n",
      "\n",
      "    All methods except TNC, SLSQP, and COBYLA support a callable with\n",
      "    the signature:\n",
      "\n",
      "        ``callback(intermediate_result: OptimizeResult)``\n",
      "\n",
      "    where ``intermediate_result`` is a keyword parameter containing an\n",
      "    `OptimizeResult` with attributes ``x`` and ``fun``, the present values\n",
      "    of the parameter vector and objective function. Note that the name\n",
      "    of the parameter must be ``intermediate_result`` for the callback\n",
      "    to be passed an `OptimizeResult`. These methods will also terminate if\n",
      "    the callback raises ``StopIteration``.\n",
      "\n",
      "    All methods except trust-constr (also) support a signature like:\n",
      "\n",
      "        ``callback(xk)``\n",
      "\n",
      "    where ``xk`` is the current parameter vector.\n",
      "\n",
      "    Introspection is used to determine which of the signatures above to\n",
      "    invoke.\n",
      "\n",
      "Returns\n",
      "-------\n",
      "res : OptimizeResult\n",
      "    The optimization result represented as a ``OptimizeResult`` object.\n",
      "    Important attributes are: ``x`` the solution array, ``success`` a\n",
      "    Boolean flag indicating if the optimizer exited successfully and\n",
      "    ``message`` which describes the cause of the termination. See\n",
      "    `OptimizeResult` for a description of other attributes.\n",
      "\n",
      "See also\n",
      "--------\n",
      "minimize_scalar : Interface to minimization algorithms for scalar\n",
      "    univariate functions\n",
      "show_options : Additional options accepted by the solvers\n",
      "\n",
      "Notes\n",
      "-----\n",
      "This section describes the available solvers that can be selected by the\n",
      "'method' parameter. The default method is *BFGS*.\n",
      "\n",
      "**Unconstrained minimization**\n",
      "\n",
      "Method :ref:`CG <optimize.minimize-cg>` uses a nonlinear conjugate\n",
      "gradient algorithm by Polak and Ribiere, a variant of the\n",
      "Fletcher-Reeves method described in [5]_ pp.120-122. Only the\n",
      "first derivatives are used.\n",
      "\n",
      "Method :ref:`BFGS <optimize.minimize-bfgs>` uses the quasi-Newton\n",
      "method of Broyden, Fletcher, Goldfarb, and Shanno (BFGS) [5]_\n",
      "pp. 136. It uses the first derivatives only. BFGS has proven good\n",
      "performance even for non-smooth optimizations. This method also\n",
      "returns an approximation of the Hessian inverse, stored as\n",
      "`hess_inv` in the OptimizeResult object.\n",
      "\n",
      "Method :ref:`Newton-CG <optimize.minimize-newtoncg>` uses a\n",
      "Newton-CG algorithm [5]_ pp. 168 (also known as the truncated\n",
      "Newton method). It uses a CG method to the compute the search\n",
      "direction. See also *TNC* method for a box-constrained\n",
      "minimization with a similar algorithm. Suitable for large-scale\n",
      "problems.\n",
      "\n",
      "Method :ref:`dogleg <optimize.minimize-dogleg>` uses the dog-leg\n",
      "trust-region algorithm [5]_ for unconstrained minimization. This\n",
      "algorithm requires the gradient and Hessian; furthermore the\n",
      "Hessian is required to be positive definite.\n",
      "\n",
      "Method :ref:`trust-ncg <optimize.minimize-trustncg>` uses the\n",
      "Newton conjugate gradient trust-region algorithm [5]_ for\n",
      "unconstrained minimization. This algorithm requires the gradient\n",
      "and either the Hessian or a function that computes the product of\n",
      "the Hessian with a given vector. Suitable for large-scale problems.\n",
      "\n",
      "Method :ref:`trust-krylov <optimize.minimize-trustkrylov>` uses\n",
      "the Newton GLTR trust-region algorithm [14]_, [15]_ for unconstrained\n",
      "minimization. This algorithm requires the gradient\n",
      "and either the Hessian or a function that computes the product of\n",
      "the Hessian with a given vector. Suitable for large-scale problems.\n",
      "On indefinite problems it requires usually less iterations than the\n",
      "`trust-ncg` method and is recommended for medium and large-scale problems.\n",
      "\n",
      "Method :ref:`trust-exact <optimize.minimize-trustexact>`\n",
      "is a trust-region method for unconstrained minimization in which\n",
      "quadratic subproblems are solved almost exactly [13]_. This\n",
      "algorithm requires the gradient and the Hessian (which is\n",
      "*not* required to be positive definite). It is, in many\n",
      "situations, the Newton method to converge in fewer iterations\n",
      "and the most recommended for small and medium-size problems.\n",
      "\n",
      "**Bound-Constrained minimization**\n",
      "\n",
      "Method :ref:`Nelder-Mead <optimize.minimize-neldermead>` uses the\n",
      "Simplex algorithm [1]_, [2]_. This algorithm is robust in many\n",
      "applications. However, if numerical computation of derivative can be\n",
      "trusted, other algorithms using the first and/or second derivatives\n",
      "information might be preferred for their better performance in\n",
      "general.\n",
      "\n",
      "Method :ref:`L-BFGS-B <optimize.minimize-lbfgsb>` uses the L-BFGS-B\n",
      "algorithm [6]_, [7]_ for bound constrained minimization.\n",
      "\n",
      "Method :ref:`Powell <optimize.minimize-powell>` is a modification\n",
      "of Powell's method [3]_, [4]_ which is a conjugate direction\n",
      "method. It performs sequential one-dimensional minimizations along\n",
      "each vector of the directions set (`direc` field in `options` and\n",
      "`info`), which is updated at each iteration of the main\n",
      "minimization loop. The function need not be differentiable, and no\n",
      "derivatives are taken. If bounds are not provided, then an\n",
      "unbounded line search will be used. If bounds are provided and\n",
      "the initial guess is within the bounds, then every function\n",
      "evaluation throughout the minimization procedure will be within\n",
      "the bounds. If bounds are provided, the initial guess is outside\n",
      "the bounds, and `direc` is full rank (default has full rank), then\n",
      "some function evaluations during the first iteration may be\n",
      "outside the bounds, but every function evaluation after the first\n",
      "iteration will be within the bounds. If `direc` is not full rank,\n",
      "then some parameters may not be optimized and the solution is not\n",
      "guaranteed to be within the bounds.\n",
      "\n",
      "Method :ref:`TNC <optimize.minimize-tnc>` uses a truncated Newton\n",
      "algorithm [5]_, [8]_ to minimize a function with variables subject\n",
      "to bounds. This algorithm uses gradient information; it is also\n",
      "called Newton Conjugate-Gradient. It differs from the *Newton-CG*\n",
      "method described above as it wraps a C implementation and allows\n",
      "each variable to be given upper and lower bounds.\n",
      "\n",
      "**Constrained Minimization**\n",
      "\n",
      "Method :ref:`COBYLA <optimize.minimize-cobyla>` uses the\n",
      "Constrained Optimization BY Linear Approximation (COBYLA) method\n",
      "[9]_, [10]_, [11]_. The algorithm is based on linear\n",
      "approximations to the objective function and each constraint. The\n",
      "method wraps a FORTRAN implementation of the algorithm. The\n",
      "constraints functions 'fun' may return either a single number\n",
      "or an array or list of numbers.\n",
      "\n",
      "Method :ref:`SLSQP <optimize.minimize-slsqp>` uses Sequential\n",
      "Least SQuares Programming to minimize a function of several\n",
      "variables with any combination of bounds, equality and inequality\n",
      "constraints. The method wraps the SLSQP Optimization subroutine\n",
      "originally implemented by Dieter Kraft [12]_. Note that the\n",
      "wrapper handles infinite values in bounds by converting them into\n",
      "large floating values.\n",
      "\n",
      "Method :ref:`trust-constr <optimize.minimize-trustconstr>` is a\n",
      "trust-region algorithm for constrained optimization. It switches\n",
      "between two implementations depending on the problem definition.\n",
      "It is the most versatile constrained minimization algorithm\n",
      "implemented in SciPy and the most appropriate for large-scale problems.\n",
      "For equality constrained problems it is an implementation of Byrd-Omojokun\n",
      "Trust-Region SQP method described in [17]_ and in [5]_, p. 549. When\n",
      "inequality constraints are imposed as well, it switches to the trust-region\n",
      "interior point method described in [16]_. This interior point algorithm,\n",
      "in turn, solves inequality constraints by introducing slack variables\n",
      "and solving a sequence of equality-constrained barrier problems\n",
      "for progressively smaller values of the barrier parameter.\n",
      "The previously described equality constrained SQP method is\n",
      "used to solve the subproblems with increasing levels of accuracy\n",
      "as the iterate gets closer to a solution.\n",
      "\n",
      "**Finite-Difference Options**\n",
      "\n",
      "For Method :ref:`trust-constr <optimize.minimize-trustconstr>`\n",
      "the gradient and the Hessian may be approximated using\n",
      "three finite-difference schemes: {'2-point', '3-point', 'cs'}.\n",
      "The scheme 'cs' is, potentially, the most accurate but it\n",
      "requires the function to correctly handle complex inputs and to\n",
      "be differentiable in the complex plane. The scheme '3-point' is more\n",
      "accurate than '2-point' but requires twice as many operations. If the\n",
      "gradient is estimated via finite-differences the Hessian must be\n",
      "estimated using one of the quasi-Newton strategies.\n",
      "\n",
      "**Method specific options for the** `hess` **keyword**\n",
      "\n",
      "+--------------+------+----------+-------------------------+-----+\n",
      "| method/Hess  | None | callable | '2-point/'3-point'/'cs' | HUS |\n",
      "+==============+======+==========+=========================+=====+\n",
      "| Newton-CG    | x    | (n, n)   | x                       | x   |\n",
      "|              |      | LO       |                         |     |\n",
      "+--------------+------+----------+-------------------------+-----+\n",
      "| dogleg       |      | (n, n)   |                         |     |\n",
      "+--------------+------+----------+-------------------------+-----+\n",
      "| trust-ncg    |      | (n, n)   | x                       | x   |\n",
      "+--------------+------+----------+-------------------------+-----+\n",
      "| trust-krylov |      | (n, n)   | x                       | x   |\n",
      "+--------------+------+----------+-------------------------+-----+\n",
      "| trust-exact  |      | (n, n)   |                         |     |\n",
      "+--------------+------+----------+-------------------------+-----+\n",
      "| trust-constr | x    | (n, n)   |  x                      | x   |\n",
      "|              |      | LO       |                         |     |\n",
      "|              |      | sp       |                         |     |\n",
      "+--------------+------+----------+-------------------------+-----+\n",
      "\n",
      "where LO=LinearOperator, sp=Sparse matrix, HUS=HessianUpdateStrategy\n",
      "\n",
      "**Custom minimizers**\n",
      "\n",
      "It may be useful to pass a custom minimization method, for example\n",
      "when using a frontend to this method such as `scipy.optimize.basinhopping`\n",
      "or a different library.  You can simply pass a callable as the ``method``\n",
      "parameter.\n",
      "\n",
      "The callable is called as ``method(fun, x0, args, **kwargs, **options)``\n",
      "where ``kwargs`` corresponds to any other parameters passed to `minimize`\n",
      "(such as `callback`, `hess`, etc.), except the `options` dict, which has\n",
      "its contents also passed as `method` parameters pair by pair.  Also, if\n",
      "`jac` has been passed as a bool type, `jac` and `fun` are mangled so that\n",
      "`fun` returns just the function values and `jac` is converted to a function\n",
      "returning the Jacobian.  The method shall return an `OptimizeResult`\n",
      "object.\n",
      "\n",
      "The provided `method` callable must be able to accept (and possibly ignore)\n",
      "arbitrary parameters; the set of parameters accepted by `minimize` may\n",
      "expand in future versions and then these parameters will be passed to\n",
      "the method.  You can find an example in the scipy.optimize tutorial.\n",
      "\n",
      "References\n",
      "----------\n",
      ".. [1] Nelder, J A, and R Mead. 1965. A Simplex Method for Function\n",
      "    Minimization. The Computer Journal 7: 308-13.\n",
      ".. [2] Wright M H. 1996. Direct search methods: Once scorned, now\n",
      "    respectable, in Numerical Analysis 1995: Proceedings of the 1995\n",
      "    Dundee Biennial Conference in Numerical Analysis (Eds. D F\n",
      "    Griffiths and G A Watson). Addison Wesley Longman, Harlow, UK.\n",
      "    191-208.\n",
      ".. [3] Powell, M J D. 1964. An efficient method for finding the minimum of\n",
      "   a function of several variables without calculating derivatives. The\n",
      "   Computer Journal 7: 155-162.\n",
      ".. [4] Press W, S A Teukolsky, W T Vetterling and B P Flannery.\n",
      "   Numerical Recipes (any edition), Cambridge University Press.\n",
      ".. [5] Nocedal, J, and S J Wright. 2006. Numerical Optimization.\n",
      "   Springer New York.\n",
      ".. [6] Byrd, R H and P Lu and J. Nocedal. 1995. A Limited Memory\n",
      "   Algorithm for Bound Constrained Optimization. SIAM Journal on\n",
      "   Scientific and Statistical Computing 16 (5): 1190-1208.\n",
      ".. [7] Zhu, C and R H Byrd and J Nocedal. 1997. L-BFGS-B: Algorithm\n",
      "   778: L-BFGS-B, FORTRAN routines for large scale bound constrained\n",
      "   optimization. ACM Transactions on Mathematical Software 23 (4):\n",
      "   550-560.\n",
      ".. [8] Nash, S G. Newton-Type Minimization Via the Lanczos Method.\n",
      "   1984. SIAM Journal of Numerical Analysis 21: 770-778.\n",
      ".. [9] Powell, M J D. A direct search optimization method that models\n",
      "   the objective and constraint functions by linear interpolation.\n",
      "   1994. Advances in Optimization and Numerical Analysis, eds. S. Gomez\n",
      "   and J-P Hennart, Kluwer Academic (Dordrecht), 51-67.\n",
      ".. [10] Powell M J D. Direct search algorithms for optimization\n",
      "   calculations. 1998. Acta Numerica 7: 287-336.\n",
      ".. [11] Powell M J D. A view of algorithms for optimization without\n",
      "   derivatives. 2007.Cambridge University Technical Report DAMTP\n",
      "   2007/NA03\n",
      ".. [12] Kraft, D. A software package for sequential quadratic\n",
      "   programming. 1988. Tech. Rep. DFVLR-FB 88-28, DLR German Aerospace\n",
      "   Center -- Institute for Flight Mechanics, Koln, Germany.\n",
      ".. [13] Conn, A. R., Gould, N. I., and Toint, P. L.\n",
      "   Trust region methods. 2000. Siam. pp. 169-200.\n",
      ".. [14] F. Lenders, C. Kirches, A. Potschka: \"trlib: A vector-free\n",
      "   implementation of the GLTR method for iterative solution of\n",
      "   the trust region problem\", :arxiv:`1611.04718`\n",
      ".. [15] N. Gould, S. Lucidi, M. Roma, P. Toint: \"Solving the\n",
      "   Trust-Region Subproblem using the Lanczos Method\",\n",
      "   SIAM J. Optim., 9(2), 504--525, (1999).\n",
      ".. [16] Byrd, Richard H., Mary E. Hribar, and Jorge Nocedal. 1999.\n",
      "    An interior point algorithm for large-scale nonlinear  programming.\n",
      "    SIAM Journal on Optimization 9.4: 877-900.\n",
      ".. [17] Lalee, Marucha, Jorge Nocedal, and Todd Plantega. 1998. On the\n",
      "    implementation of an algorithm for large-scale equality constrained\n",
      "    optimization. SIAM Journal on Optimization 8.3: 682-706.\n",
      "\n",
      "Examples\n",
      "--------\n",
      "Let us consider the problem of minimizing the Rosenbrock function. This\n",
      "function (and its respective derivatives) is implemented in `rosen`\n",
      "(resp. `rosen_der`, `rosen_hess`) in the `scipy.optimize`.\n",
      "\n",
      ">>> from scipy.optimize import minimize, rosen, rosen_der\n",
      "\n",
      "A simple application of the *Nelder-Mead* method is:\n",
      "\n",
      ">>> x0 = [1.3, 0.7, 0.8, 1.9, 1.2]\n",
      ">>> res = minimize(rosen, x0, method='Nelder-Mead', tol=1e-6)\n",
      ">>> res.x\n",
      "array([ 1.,  1.,  1.,  1.,  1.])\n",
      "\n",
      "Now using the *BFGS* algorithm, using the first derivative and a few\n",
      "options:\n",
      "\n",
      ">>> res = minimize(rosen, x0, method='BFGS', jac=rosen_der,\n",
      "...                options={'gtol': 1e-6, 'disp': True})\n",
      "Optimization terminated successfully.\n",
      "         Current function value: 0.000000\n",
      "         Iterations: 26\n",
      "         Function evaluations: 31\n",
      "         Gradient evaluations: 31\n",
      ">>> res.x\n",
      "array([ 1.,  1.,  1.,  1.,  1.])\n",
      ">>> print(res.message)\n",
      "Optimization terminated successfully.\n",
      ">>> res.hess_inv\n",
      "array([\n",
      "    [ 0.00749589,  0.01255155,  0.02396251,  0.04750988,  0.09495377],  # may vary\n",
      "    [ 0.01255155,  0.02510441,  0.04794055,  0.09502834,  0.18996269],\n",
      "    [ 0.02396251,  0.04794055,  0.09631614,  0.19092151,  0.38165151],\n",
      "    [ 0.04750988,  0.09502834,  0.19092151,  0.38341252,  0.7664427 ],\n",
      "    [ 0.09495377,  0.18996269,  0.38165151,  0.7664427,   1.53713523]\n",
      "])\n",
      "\n",
      "\n",
      "Next, consider a minimization problem with several constraints (namely\n",
      "Example 16.4 from [5]_). The objective function is:\n",
      "\n",
      ">>> fun = lambda x: (x[0] - 1)**2 + (x[1] - 2.5)**2\n",
      "\n",
      "There are three constraints defined as:\n",
      "\n",
      ">>> cons = ({'type': 'ineq', 'fun': lambda x:  x[0] - 2 * x[1] + 2},\n",
      "...         {'type': 'ineq', 'fun': lambda x: -x[0] - 2 * x[1] + 6},\n",
      "...         {'type': 'ineq', 'fun': lambda x: -x[0] + 2 * x[1] + 2})\n",
      "\n",
      "And variables must be positive, hence the following bounds:\n",
      "\n",
      ">>> bnds = ((0, None), (0, None))\n",
      "\n",
      "The optimization problem is solved using the SLSQP method as:\n",
      "\n",
      ">>> res = minimize(fun, (2, 0), method='SLSQP', bounds=bnds,\n",
      "...                constraints=cons)\n",
      "\n",
      "It should converge to the theoretical solution (1.4 ,1.7).\n",
      "\u001b[1;31mFile:\u001b[0m      c:\\users\\aayus\\anaconda3\\envs\\my_env_1\\lib\\site-packages\\scipy\\optimize\\_minimize.py\n",
      "\u001b[1;31mType:\u001b[0m      function"
     ]
    }
   ],
   "source": [
    "?minimize\n"
   ]
  },
  {
   "cell_type": "code",
   "execution_count": 7,
   "metadata": {},
   "outputs": [
    {
     "name": "stdout",
     "output_type": "stream",
     "text": [
      "\u001b[1;31mSignature:\u001b[0m\n",
      "\u001b[0mminimize\u001b[0m\u001b[1;33m(\u001b[0m\u001b[1;33m\n",
      "\u001b[0m    \u001b[0mfun\u001b[0m\u001b[1;33m,\u001b[0m\u001b[1;33m\n",
      "\u001b[0m    \u001b[0mx0\u001b[0m\u001b[1;33m,\u001b[0m\u001b[1;33m\n",
      "\u001b[0m    \u001b[0margs\u001b[0m\u001b[1;33m=\u001b[0m\u001b[1;33m(\u001b[0m\u001b[1;33m)\u001b[0m\u001b[1;33m,\u001b[0m\u001b[1;33m\n",
      "\u001b[0m    \u001b[0mmethod\u001b[0m\u001b[1;33m=\u001b[0m\u001b[1;32mNone\u001b[0m\u001b[1;33m,\u001b[0m\u001b[1;33m\n",
      "\u001b[0m    \u001b[0mjac\u001b[0m\u001b[1;33m=\u001b[0m\u001b[1;32mNone\u001b[0m\u001b[1;33m,\u001b[0m\u001b[1;33m\n",
      "\u001b[0m    \u001b[0mhess\u001b[0m\u001b[1;33m=\u001b[0m\u001b[1;32mNone\u001b[0m\u001b[1;33m,\u001b[0m\u001b[1;33m\n",
      "\u001b[0m    \u001b[0mhessp\u001b[0m\u001b[1;33m=\u001b[0m\u001b[1;32mNone\u001b[0m\u001b[1;33m,\u001b[0m\u001b[1;33m\n",
      "\u001b[0m    \u001b[0mbounds\u001b[0m\u001b[1;33m=\u001b[0m\u001b[1;32mNone\u001b[0m\u001b[1;33m,\u001b[0m\u001b[1;33m\n",
      "\u001b[0m    \u001b[0mconstraints\u001b[0m\u001b[1;33m=\u001b[0m\u001b[1;33m(\u001b[0m\u001b[1;33m)\u001b[0m\u001b[1;33m,\u001b[0m\u001b[1;33m\n",
      "\u001b[0m    \u001b[0mtol\u001b[0m\u001b[1;33m=\u001b[0m\u001b[1;32mNone\u001b[0m\u001b[1;33m,\u001b[0m\u001b[1;33m\n",
      "\u001b[0m    \u001b[0mcallback\u001b[0m\u001b[1;33m=\u001b[0m\u001b[1;32mNone\u001b[0m\u001b[1;33m,\u001b[0m\u001b[1;33m\n",
      "\u001b[0m    \u001b[0moptions\u001b[0m\u001b[1;33m=\u001b[0m\u001b[1;32mNone\u001b[0m\u001b[1;33m,\u001b[0m\u001b[1;33m\n",
      "\u001b[0m\u001b[1;33m)\u001b[0m\u001b[1;33m\u001b[0m\u001b[1;33m\u001b[0m\u001b[0m\n",
      "\u001b[1;31mDocstring:\u001b[0m\n",
      "Minimization of scalar function of one or more variables.\n",
      "\n",
      "Parameters\n",
      "----------\n",
      "fun : callable\n",
      "    The objective function to be minimized.\n",
      "\n",
      "        ``fun(x, *args) -> float``\n",
      "\n",
      "    where ``x`` is a 1-D array with shape (n,) and ``args``\n",
      "    is a tuple of the fixed parameters needed to completely\n",
      "    specify the function.\n",
      "x0 : ndarray, shape (n,)\n",
      "    Initial guess. Array of real elements of size (n,),\n",
      "    where ``n`` is the number of independent variables.\n",
      "args : tuple, optional\n",
      "    Extra arguments passed to the objective function and its\n",
      "    derivatives (`fun`, `jac` and `hess` functions).\n",
      "method : str or callable, optional\n",
      "    Type of solver.  Should be one of\n",
      "\n",
      "        - 'Nelder-Mead' :ref:`(see here) <optimize.minimize-neldermead>`\n",
      "        - 'Powell'      :ref:`(see here) <optimize.minimize-powell>`\n",
      "        - 'CG'          :ref:`(see here) <optimize.minimize-cg>`\n",
      "        - 'BFGS'        :ref:`(see here) <optimize.minimize-bfgs>`\n",
      "        - 'Newton-CG'   :ref:`(see here) <optimize.minimize-newtoncg>`\n",
      "        - 'L-BFGS-B'    :ref:`(see here) <optimize.minimize-lbfgsb>`\n",
      "        - 'TNC'         :ref:`(see here) <optimize.minimize-tnc>`\n",
      "        - 'COBYLA'      :ref:`(see here) <optimize.minimize-cobyla>`\n",
      "        - 'SLSQP'       :ref:`(see here) <optimize.minimize-slsqp>`\n",
      "        - 'trust-constr':ref:`(see here) <optimize.minimize-trustconstr>`\n",
      "        - 'dogleg'      :ref:`(see here) <optimize.minimize-dogleg>`\n",
      "        - 'trust-ncg'   :ref:`(see here) <optimize.minimize-trustncg>`\n",
      "        - 'trust-exact' :ref:`(see here) <optimize.minimize-trustexact>`\n",
      "        - 'trust-krylov' :ref:`(see here) <optimize.minimize-trustkrylov>`\n",
      "        - custom - a callable object, see below for description.\n",
      "\n",
      "    If not given, chosen to be one of ``BFGS``, ``L-BFGS-B``, ``SLSQP``,\n",
      "    depending on whether or not the problem has constraints or bounds.\n",
      "jac : {callable,  '2-point', '3-point', 'cs', bool}, optional\n",
      "    Method for computing the gradient vector. Only for CG, BFGS,\n",
      "    Newton-CG, L-BFGS-B, TNC, SLSQP, dogleg, trust-ncg, trust-krylov,\n",
      "    trust-exact and trust-constr.\n",
      "    If it is a callable, it should be a function that returns the gradient\n",
      "    vector:\n",
      "\n",
      "        ``jac(x, *args) -> array_like, shape (n,)``\n",
      "\n",
      "    where ``x`` is an array with shape (n,) and ``args`` is a tuple with\n",
      "    the fixed parameters. If `jac` is a Boolean and is True, `fun` is\n",
      "    assumed to return a tuple ``(f, g)`` containing the objective\n",
      "    function and the gradient.\n",
      "    Methods 'Newton-CG', 'trust-ncg', 'dogleg', 'trust-exact', and\n",
      "    'trust-krylov' require that either a callable be supplied, or that\n",
      "    `fun` return the objective and gradient.\n",
      "    If None or False, the gradient will be estimated using 2-point finite\n",
      "    difference estimation with an absolute step size.\n",
      "    Alternatively, the keywords  {'2-point', '3-point', 'cs'} can be used\n",
      "    to select a finite difference scheme for numerical estimation of the\n",
      "    gradient with a relative step size. These finite difference schemes\n",
      "    obey any specified `bounds`.\n",
      "hess : {callable, '2-point', '3-point', 'cs', HessianUpdateStrategy}, optional\n",
      "    Method for computing the Hessian matrix. Only for Newton-CG, dogleg,\n",
      "    trust-ncg, trust-krylov, trust-exact and trust-constr.\n",
      "    If it is callable, it should return the Hessian matrix:\n",
      "\n",
      "        ``hess(x, *args) -> {LinearOperator, spmatrix, array}, (n, n)``\n",
      "\n",
      "    where ``x`` is a (n,) ndarray and ``args`` is a tuple with the fixed\n",
      "    parameters.\n",
      "    The keywords {'2-point', '3-point', 'cs'} can also be used to select\n",
      "    a finite difference scheme for numerical estimation of the hessian.\n",
      "    Alternatively, objects implementing the `HessianUpdateStrategy`\n",
      "    interface can be used to approximate the Hessian. Available\n",
      "    quasi-Newton methods implementing this interface are:\n",
      "\n",
      "        - `BFGS`;\n",
      "        - `SR1`.\n",
      "\n",
      "    Not all of the options are available for each of the methods; for\n",
      "    availability refer to the notes.\n",
      "hessp : callable, optional\n",
      "    Hessian of objective function times an arbitrary vector p. Only for\n",
      "    Newton-CG, trust-ncg, trust-krylov, trust-constr.\n",
      "    Only one of `hessp` or `hess` needs to be given. If `hess` is\n",
      "    provided, then `hessp` will be ignored. `hessp` must compute the\n",
      "    Hessian times an arbitrary vector:\n",
      "\n",
      "        ``hessp(x, p, *args) ->  ndarray shape (n,)``\n",
      "\n",
      "    where ``x`` is a (n,) ndarray, ``p`` is an arbitrary vector with\n",
      "    dimension (n,) and ``args`` is a tuple with the fixed\n",
      "    parameters.\n",
      "bounds : sequence or `Bounds`, optional\n",
      "    Bounds on variables for Nelder-Mead, L-BFGS-B, TNC, SLSQP, Powell,\n",
      "    trust-constr, and COBYLA methods. There are two ways to specify the\n",
      "    bounds:\n",
      "\n",
      "        1. Instance of `Bounds` class.\n",
      "        2. Sequence of ``(min, max)`` pairs for each element in `x`. None\n",
      "           is used to specify no bound.\n",
      "\n",
      "constraints : {Constraint, dict} or List of {Constraint, dict}, optional\n",
      "    Constraints definition. Only for COBYLA, SLSQP and trust-constr.\n",
      "\n",
      "    Constraints for 'trust-constr' are defined as a single object or a\n",
      "    list of objects specifying constraints to the optimization problem.\n",
      "    Available constraints are:\n",
      "\n",
      "        - `LinearConstraint`\n",
      "        - `NonlinearConstraint`\n",
      "\n",
      "    Constraints for COBYLA, SLSQP are defined as a list of dictionaries.\n",
      "    Each dictionary with fields:\n",
      "\n",
      "        type : str\n",
      "            Constraint type: 'eq' for equality, 'ineq' for inequality.\n",
      "        fun : callable\n",
      "            The function defining the constraint.\n",
      "        jac : callable, optional\n",
      "            The Jacobian of `fun` (only for SLSQP).\n",
      "        args : sequence, optional\n",
      "            Extra arguments to be passed to the function and Jacobian.\n",
      "\n",
      "    Equality constraint means that the constraint function result is to\n",
      "    be zero whereas inequality means that it is to be non-negative.\n",
      "    Note that COBYLA only supports inequality constraints.\n",
      "tol : float, optional\n",
      "    Tolerance for termination. When `tol` is specified, the selected\n",
      "    minimization algorithm sets some relevant solver-specific tolerance(s)\n",
      "    equal to `tol`. For detailed control, use solver-specific\n",
      "    options.\n",
      "options : dict, optional\n",
      "    A dictionary of solver options. All methods except `TNC` accept the\n",
      "    following generic options:\n",
      "\n",
      "        maxiter : int\n",
      "            Maximum number of iterations to perform. Depending on the\n",
      "            method each iteration may use several function evaluations.\n",
      "\n",
      "            For `TNC` use `maxfun` instead of `maxiter`.\n",
      "        disp : bool\n",
      "            Set to True to print convergence messages.\n",
      "\n",
      "    For method-specific options, see :func:`show_options()`.\n",
      "callback : callable, optional\n",
      "    A callable called after each iteration.\n",
      "\n",
      "    All methods except TNC, SLSQP, and COBYLA support a callable with\n",
      "    the signature:\n",
      "\n",
      "        ``callback(intermediate_result: OptimizeResult)``\n",
      "\n",
      "    where ``intermediate_result`` is a keyword parameter containing an\n",
      "    `OptimizeResult` with attributes ``x`` and ``fun``, the present values\n",
      "    of the parameter vector and objective function. Note that the name\n",
      "    of the parameter must be ``intermediate_result`` for the callback\n",
      "    to be passed an `OptimizeResult`. These methods will also terminate if\n",
      "    the callback raises ``StopIteration``.\n",
      "\n",
      "    All methods except trust-constr (also) support a signature like:\n",
      "\n",
      "        ``callback(xk)``\n",
      "\n",
      "    where ``xk`` is the current parameter vector.\n",
      "\n",
      "    Introspection is used to determine which of the signatures above to\n",
      "    invoke.\n",
      "\n",
      "Returns\n",
      "-------\n",
      "res : OptimizeResult\n",
      "    The optimization result represented as a ``OptimizeResult`` object.\n",
      "    Important attributes are: ``x`` the solution array, ``success`` a\n",
      "    Boolean flag indicating if the optimizer exited successfully and\n",
      "    ``message`` which describes the cause of the termination. See\n",
      "    `OptimizeResult` for a description of other attributes.\n",
      "\n",
      "See also\n",
      "--------\n",
      "minimize_scalar : Interface to minimization algorithms for scalar\n",
      "    univariate functions\n",
      "show_options : Additional options accepted by the solvers\n",
      "\n",
      "Notes\n",
      "-----\n",
      "This section describes the available solvers that can be selected by the\n",
      "'method' parameter. The default method is *BFGS*.\n",
      "\n",
      "**Unconstrained minimization**\n",
      "\n",
      "Method :ref:`CG <optimize.minimize-cg>` uses a nonlinear conjugate\n",
      "gradient algorithm by Polak and Ribiere, a variant of the\n",
      "Fletcher-Reeves method described in [5]_ pp.120-122. Only the\n",
      "first derivatives are used.\n",
      "\n",
      "Method :ref:`BFGS <optimize.minimize-bfgs>` uses the quasi-Newton\n",
      "method of Broyden, Fletcher, Goldfarb, and Shanno (BFGS) [5]_\n",
      "pp. 136. It uses the first derivatives only. BFGS has proven good\n",
      "performance even for non-smooth optimizations. This method also\n",
      "returns an approximation of the Hessian inverse, stored as\n",
      "`hess_inv` in the OptimizeResult object.\n",
      "\n",
      "Method :ref:`Newton-CG <optimize.minimize-newtoncg>` uses a\n",
      "Newton-CG algorithm [5]_ pp. 168 (also known as the truncated\n",
      "Newton method). It uses a CG method to the compute the search\n",
      "direction. See also *TNC* method for a box-constrained\n",
      "minimization with a similar algorithm. Suitable for large-scale\n",
      "problems.\n",
      "\n",
      "Method :ref:`dogleg <optimize.minimize-dogleg>` uses the dog-leg\n",
      "trust-region algorithm [5]_ for unconstrained minimization. This\n",
      "algorithm requires the gradient and Hessian; furthermore the\n",
      "Hessian is required to be positive definite.\n",
      "\n",
      "Method :ref:`trust-ncg <optimize.minimize-trustncg>` uses the\n",
      "Newton conjugate gradient trust-region algorithm [5]_ for\n",
      "unconstrained minimization. This algorithm requires the gradient\n",
      "and either the Hessian or a function that computes the product of\n",
      "the Hessian with a given vector. Suitable for large-scale problems.\n",
      "\n",
      "Method :ref:`trust-krylov <optimize.minimize-trustkrylov>` uses\n",
      "the Newton GLTR trust-region algorithm [14]_, [15]_ for unconstrained\n",
      "minimization. This algorithm requires the gradient\n",
      "and either the Hessian or a function that computes the product of\n",
      "the Hessian with a given vector. Suitable for large-scale problems.\n",
      "On indefinite problems it requires usually less iterations than the\n",
      "`trust-ncg` method and is recommended for medium and large-scale problems.\n",
      "\n",
      "Method :ref:`trust-exact <optimize.minimize-trustexact>`\n",
      "is a trust-region method for unconstrained minimization in which\n",
      "quadratic subproblems are solved almost exactly [13]_. This\n",
      "algorithm requires the gradient and the Hessian (which is\n",
      "*not* required to be positive definite). It is, in many\n",
      "situations, the Newton method to converge in fewer iterations\n",
      "and the most recommended for small and medium-size problems.\n",
      "\n",
      "**Bound-Constrained minimization**\n",
      "\n",
      "Method :ref:`Nelder-Mead <optimize.minimize-neldermead>` uses the\n",
      "Simplex algorithm [1]_, [2]_. This algorithm is robust in many\n",
      "applications. However, if numerical computation of derivative can be\n",
      "trusted, other algorithms using the first and/or second derivatives\n",
      "information might be preferred for their better performance in\n",
      "general.\n",
      "\n",
      "Method :ref:`L-BFGS-B <optimize.minimize-lbfgsb>` uses the L-BFGS-B\n",
      "algorithm [6]_, [7]_ for bound constrained minimization.\n",
      "\n",
      "Method :ref:`Powell <optimize.minimize-powell>` is a modification\n",
      "of Powell's method [3]_, [4]_ which is a conjugate direction\n",
      "method. It performs sequential one-dimensional minimizations along\n",
      "each vector of the directions set (`direc` field in `options` and\n",
      "`info`), which is updated at each iteration of the main\n",
      "minimization loop. The function need not be differentiable, and no\n",
      "derivatives are taken. If bounds are not provided, then an\n",
      "unbounded line search will be used. If bounds are provided and\n",
      "the initial guess is within the bounds, then every function\n",
      "evaluation throughout the minimization procedure will be within\n",
      "the bounds. If bounds are provided, the initial guess is outside\n",
      "the bounds, and `direc` is full rank (default has full rank), then\n",
      "some function evaluations during the first iteration may be\n",
      "outside the bounds, but every function evaluation after the first\n",
      "iteration will be within the bounds. If `direc` is not full rank,\n",
      "then some parameters may not be optimized and the solution is not\n",
      "guaranteed to be within the bounds.\n",
      "\n",
      "Method :ref:`TNC <optimize.minimize-tnc>` uses a truncated Newton\n",
      "algorithm [5]_, [8]_ to minimize a function with variables subject\n",
      "to bounds. This algorithm uses gradient information; it is also\n",
      "called Newton Conjugate-Gradient. It differs from the *Newton-CG*\n",
      "method described above as it wraps a C implementation and allows\n",
      "each variable to be given upper and lower bounds.\n",
      "\n",
      "**Constrained Minimization**\n",
      "\n",
      "Method :ref:`COBYLA <optimize.minimize-cobyla>` uses the\n",
      "Constrained Optimization BY Linear Approximation (COBYLA) method\n",
      "[9]_, [10]_, [11]_. The algorithm is based on linear\n",
      "approximations to the objective function and each constraint. The\n",
      "method wraps a FORTRAN implementation of the algorithm. The\n",
      "constraints functions 'fun' may return either a single number\n",
      "or an array or list of numbers.\n",
      "\n",
      "Method :ref:`SLSQP <optimize.minimize-slsqp>` uses Sequential\n",
      "Least SQuares Programming to minimize a function of several\n",
      "variables with any combination of bounds, equality and inequality\n",
      "constraints. The method wraps the SLSQP Optimization subroutine\n",
      "originally implemented by Dieter Kraft [12]_. Note that the\n",
      "wrapper handles infinite values in bounds by converting them into\n",
      "large floating values.\n",
      "\n",
      "Method :ref:`trust-constr <optimize.minimize-trustconstr>` is a\n",
      "trust-region algorithm for constrained optimization. It switches\n",
      "between two implementations depending on the problem definition.\n",
      "It is the most versatile constrained minimization algorithm\n",
      "implemented in SciPy and the most appropriate for large-scale problems.\n",
      "For equality constrained problems it is an implementation of Byrd-Omojokun\n",
      "Trust-Region SQP method described in [17]_ and in [5]_, p. 549. When\n",
      "inequality constraints are imposed as well, it switches to the trust-region\n",
      "interior point method described in [16]_. This interior point algorithm,\n",
      "in turn, solves inequality constraints by introducing slack variables\n",
      "and solving a sequence of equality-constrained barrier problems\n",
      "for progressively smaller values of the barrier parameter.\n",
      "The previously described equality constrained SQP method is\n",
      "used to solve the subproblems with increasing levels of accuracy\n",
      "as the iterate gets closer to a solution.\n",
      "\n",
      "**Finite-Difference Options**\n",
      "\n",
      "For Method :ref:`trust-constr <optimize.minimize-trustconstr>`\n",
      "the gradient and the Hessian may be approximated using\n",
      "three finite-difference schemes: {'2-point', '3-point', 'cs'}.\n",
      "The scheme 'cs' is, potentially, the most accurate but it\n",
      "requires the function to correctly handle complex inputs and to\n",
      "be differentiable in the complex plane. The scheme '3-point' is more\n",
      "accurate than '2-point' but requires twice as many operations. If the\n",
      "gradient is estimated via finite-differences the Hessian must be\n",
      "estimated using one of the quasi-Newton strategies.\n",
      "\n",
      "**Method specific options for the** `hess` **keyword**\n",
      "\n",
      "+--------------+------+----------+-------------------------+-----+\n",
      "| method/Hess  | None | callable | '2-point/'3-point'/'cs' | HUS |\n",
      "+==============+======+==========+=========================+=====+\n",
      "| Newton-CG    | x    | (n, n)   | x                       | x   |\n",
      "|              |      | LO       |                         |     |\n",
      "+--------------+------+----------+-------------------------+-----+\n",
      "| dogleg       |      | (n, n)   |                         |     |\n",
      "+--------------+------+----------+-------------------------+-----+\n",
      "| trust-ncg    |      | (n, n)   | x                       | x   |\n",
      "+--------------+------+----------+-------------------------+-----+\n",
      "| trust-krylov |      | (n, n)   | x                       | x   |\n",
      "+--------------+------+----------+-------------------------+-----+\n",
      "| trust-exact  |      | (n, n)   |                         |     |\n",
      "+--------------+------+----------+-------------------------+-----+\n",
      "| trust-constr | x    | (n, n)   |  x                      | x   |\n",
      "|              |      | LO       |                         |     |\n",
      "|              |      | sp       |                         |     |\n",
      "+--------------+------+----------+-------------------------+-----+\n",
      "\n",
      "where LO=LinearOperator, sp=Sparse matrix, HUS=HessianUpdateStrategy\n",
      "\n",
      "**Custom minimizers**\n",
      "\n",
      "It may be useful to pass a custom minimization method, for example\n",
      "when using a frontend to this method such as `scipy.optimize.basinhopping`\n",
      "or a different library.  You can simply pass a callable as the ``method``\n",
      "parameter.\n",
      "\n",
      "The callable is called as ``method(fun, x0, args, **kwargs, **options)``\n",
      "where ``kwargs`` corresponds to any other parameters passed to `minimize`\n",
      "(such as `callback`, `hess`, etc.), except the `options` dict, which has\n",
      "its contents also passed as `method` parameters pair by pair.  Also, if\n",
      "`jac` has been passed as a bool type, `jac` and `fun` are mangled so that\n",
      "`fun` returns just the function values and `jac` is converted to a function\n",
      "returning the Jacobian.  The method shall return an `OptimizeResult`\n",
      "object.\n",
      "\n",
      "The provided `method` callable must be able to accept (and possibly ignore)\n",
      "arbitrary parameters; the set of parameters accepted by `minimize` may\n",
      "expand in future versions and then these parameters will be passed to\n",
      "the method.  You can find an example in the scipy.optimize tutorial.\n",
      "\n",
      "References\n",
      "----------\n",
      ".. [1] Nelder, J A, and R Mead. 1965. A Simplex Method for Function\n",
      "    Minimization. The Computer Journal 7: 308-13.\n",
      ".. [2] Wright M H. 1996. Direct search methods: Once scorned, now\n",
      "    respectable, in Numerical Analysis 1995: Proceedings of the 1995\n",
      "    Dundee Biennial Conference in Numerical Analysis (Eds. D F\n",
      "    Griffiths and G A Watson). Addison Wesley Longman, Harlow, UK.\n",
      "    191-208.\n",
      ".. [3] Powell, M J D. 1964. An efficient method for finding the minimum of\n",
      "   a function of several variables without calculating derivatives. The\n",
      "   Computer Journal 7: 155-162.\n",
      ".. [4] Press W, S A Teukolsky, W T Vetterling and B P Flannery.\n",
      "   Numerical Recipes (any edition), Cambridge University Press.\n",
      ".. [5] Nocedal, J, and S J Wright. 2006. Numerical Optimization.\n",
      "   Springer New York.\n",
      ".. [6] Byrd, R H and P Lu and J. Nocedal. 1995. A Limited Memory\n",
      "   Algorithm for Bound Constrained Optimization. SIAM Journal on\n",
      "   Scientific and Statistical Computing 16 (5): 1190-1208.\n",
      ".. [7] Zhu, C and R H Byrd and J Nocedal. 1997. L-BFGS-B: Algorithm\n",
      "   778: L-BFGS-B, FORTRAN routines for large scale bound constrained\n",
      "   optimization. ACM Transactions on Mathematical Software 23 (4):\n",
      "   550-560.\n",
      ".. [8] Nash, S G. Newton-Type Minimization Via the Lanczos Method.\n",
      "   1984. SIAM Journal of Numerical Analysis 21: 770-778.\n",
      ".. [9] Powell, M J D. A direct search optimization method that models\n",
      "   the objective and constraint functions by linear interpolation.\n",
      "   1994. Advances in Optimization and Numerical Analysis, eds. S. Gomez\n",
      "   and J-P Hennart, Kluwer Academic (Dordrecht), 51-67.\n",
      ".. [10] Powell M J D. Direct search algorithms for optimization\n",
      "   calculations. 1998. Acta Numerica 7: 287-336.\n",
      ".. [11] Powell M J D. A view of algorithms for optimization without\n",
      "   derivatives. 2007.Cambridge University Technical Report DAMTP\n",
      "   2007/NA03\n",
      ".. [12] Kraft, D. A software package for sequential quadratic\n",
      "   programming. 1988. Tech. Rep. DFVLR-FB 88-28, DLR German Aerospace\n",
      "   Center -- Institute for Flight Mechanics, Koln, Germany.\n",
      ".. [13] Conn, A. R., Gould, N. I., and Toint, P. L.\n",
      "   Trust region methods. 2000. Siam. pp. 169-200.\n",
      ".. [14] F. Lenders, C. Kirches, A. Potschka: \"trlib: A vector-free\n",
      "   implementation of the GLTR method for iterative solution of\n",
      "   the trust region problem\", :arxiv:`1611.04718`\n",
      ".. [15] N. Gould, S. Lucidi, M. Roma, P. Toint: \"Solving the\n",
      "   Trust-Region Subproblem using the Lanczos Method\",\n",
      "   SIAM J. Optim., 9(2), 504--525, (1999).\n",
      ".. [16] Byrd, Richard H., Mary E. Hribar, and Jorge Nocedal. 1999.\n",
      "    An interior point algorithm for large-scale nonlinear  programming.\n",
      "    SIAM Journal on Optimization 9.4: 877-900.\n",
      ".. [17] Lalee, Marucha, Jorge Nocedal, and Todd Plantega. 1998. On the\n",
      "    implementation of an algorithm for large-scale equality constrained\n",
      "    optimization. SIAM Journal on Optimization 8.3: 682-706.\n",
      "\n",
      "Examples\n",
      "--------\n",
      "Let us consider the problem of minimizing the Rosenbrock function. This\n",
      "function (and its respective derivatives) is implemented in `rosen`\n",
      "(resp. `rosen_der`, `rosen_hess`) in the `scipy.optimize`.\n",
      "\n",
      ">>> from scipy.optimize import minimize, rosen, rosen_der\n",
      "\n",
      "A simple application of the *Nelder-Mead* method is:\n",
      "\n",
      ">>> x0 = [1.3, 0.7, 0.8, 1.9, 1.2]\n",
      ">>> res = minimize(rosen, x0, method='Nelder-Mead', tol=1e-6)\n",
      ">>> res.x\n",
      "array([ 1.,  1.,  1.,  1.,  1.])\n",
      "\n",
      "Now using the *BFGS* algorithm, using the first derivative and a few\n",
      "options:\n",
      "\n",
      ">>> res = minimize(rosen, x0, method='BFGS', jac=rosen_der,\n",
      "...                options={'gtol': 1e-6, 'disp': True})\n",
      "Optimization terminated successfully.\n",
      "         Current function value: 0.000000\n",
      "         Iterations: 26\n",
      "         Function evaluations: 31\n",
      "         Gradient evaluations: 31\n",
      ">>> res.x\n",
      "array([ 1.,  1.,  1.,  1.,  1.])\n",
      ">>> print(res.message)\n",
      "Optimization terminated successfully.\n",
      ">>> res.hess_inv\n",
      "array([\n",
      "    [ 0.00749589,  0.01255155,  0.02396251,  0.04750988,  0.09495377],  # may vary\n",
      "    [ 0.01255155,  0.02510441,  0.04794055,  0.09502834,  0.18996269],\n",
      "    [ 0.02396251,  0.04794055,  0.09631614,  0.19092151,  0.38165151],\n",
      "    [ 0.04750988,  0.09502834,  0.19092151,  0.38341252,  0.7664427 ],\n",
      "    [ 0.09495377,  0.18996269,  0.38165151,  0.7664427,   1.53713523]\n",
      "])\n",
      "\n",
      "\n",
      "Next, consider a minimization problem with several constraints (namely\n",
      "Example 16.4 from [5]_). The objective function is:\n",
      "\n",
      ">>> fun = lambda x: (x[0] - 1)**2 + (x[1] - 2.5)**2\n",
      "\n",
      "There are three constraints defined as:\n",
      "\n",
      ">>> cons = ({'type': 'ineq', 'fun': lambda x:  x[0] - 2 * x[1] + 2},\n",
      "...         {'type': 'ineq', 'fun': lambda x: -x[0] - 2 * x[1] + 6},\n",
      "...         {'type': 'ineq', 'fun': lambda x: -x[0] + 2 * x[1] + 2})\n",
      "\n",
      "And variables must be positive, hence the following bounds:\n",
      "\n",
      ">>> bnds = ((0, None), (0, None))\n",
      "\n",
      "The optimization problem is solved using the SLSQP method as:\n",
      "\n",
      ">>> res = minimize(fun, (2, 0), method='SLSQP', bounds=bnds,\n",
      "...                constraints=cons)\n",
      "\n",
      "It should converge to the theoretical solution (1.4 ,1.7).\n",
      "\u001b[1;31mFile:\u001b[0m      c:\\users\\aayus\\anaconda3\\envs\\my_env_1\\lib\\site-packages\\scipy\\optimize\\_minimize.py\n",
      "\u001b[1;31mType:\u001b[0m      function"
     ]
    }
   ],
   "source": [
    "minimize?\n"
   ]
  },
  {
   "cell_type": "code",
   "execution_count": 16,
   "metadata": {},
   "outputs": [
    {
     "name": "stdout",
     "output_type": "stream",
     "text": [
      "7.25\n"
     ]
    }
   ],
   "source": [
    "#minimize a 2d function\n",
    "#use lambda function\n",
    "\n",
    "f = lambda x: (x[0]-1)**2 + (x[1]-2.5)**2\n",
    "print(f([0,0]))\n",
    "\n",
    "#defining constraints as a tuple of dictionaries\n",
    "\n",
    "cons = ({'type':'ineq', 'fun': lambda x:  x[0] - 2 * x[1] + 2},\n",
    "        {'type':'ineq', 'fun': lambda x: -x[0] - 2 * x[1] + 6},\n",
    "        {'type':'ineq', 'fun': lambda x: -x[0] + 2 * x[1] + 2})\n",
    "\n",
    "#defining bounds on x[0], x[1]\n",
    "\n",
    "bnds = ((0,None), (0,None))\n",
    "\n",
    "#use minimize function\n",
    "\n",
    "res = minimize(f, (110,230), bounds=bnds, constraints=cons)"
   ]
  },
  {
   "cell_type": "code",
   "execution_count": 17,
   "metadata": {},
   "outputs": [
    {
     "data": {
      "text/plain": [
       " message: Optimization terminated successfully\n",
       " success: True\n",
       "  status: 0\n",
       "     fun: 0.7999999999999988\n",
       "       x: [ 1.400e+00  1.700e+00]\n",
       "     nit: 5\n",
       "     jac: [ 8.000e-01 -1.600e+00]\n",
       "    nfev: 15\n",
       "    njev: 5"
      ]
     },
     "execution_count": 17,
     "metadata": {},
     "output_type": "execute_result"
    }
   ],
   "source": [
    "res"
   ]
  },
  {
   "cell_type": "code",
   "execution_count": 18,
   "metadata": {},
   "outputs": [
    {
     "data": {
      "text/plain": [
       "array([1.39999999, 1.7       ])"
      ]
     },
     "execution_count": 18,
     "metadata": {},
     "output_type": "execute_result"
    }
   ],
   "source": [
    "res.x"
   ]
  },
  {
   "cell_type": "code",
   "execution_count": 19,
   "metadata": {},
   "outputs": [
    {
     "data": {
      "text/plain": [
       "<matplotlib.collections.PathCollection at 0x18a40c6f4d0>"
      ]
     },
     "execution_count": 19,
     "metadata": {},
     "output_type": "execute_result"
    },
    {
     "data": {
      "image/png": "[encoded data removed]",
      "text/plain": [
       "<Figure size 640x480 with 1 Axes>"
      ]
     },
     "metadata": {},
     "output_type": "display_data"
    }
   ],
   "source": [
    "#interpolation\n",
    "\n",
    "x = np.linspace(0, 10, 10)\n",
    "y = x**2 * np.sin(x)\n",
    "plt.scatter(x,y)"
   ]
  },
  {
   "cell_type": "code",
   "execution_count": 20,
   "metadata": {},
   "outputs": [],
   "source": [
    "from scipy.interpolate import interp1d\n"
   ]
  },
  {
   "cell_type": "code",
   "execution_count": 21,
   "metadata": {},
   "outputs": [
    {
     "name": "stdout",
     "output_type": "stream",
     "text": [
      "\u001b[1;31mInit signature:\u001b[0m\n",
      "\u001b[0minterp1d\u001b[0m\u001b[1;33m(\u001b[0m\u001b[1;33m\n",
      "\u001b[0m    \u001b[0mx\u001b[0m\u001b[1;33m,\u001b[0m\u001b[1;33m\n",
      "\u001b[0m    \u001b[0my\u001b[0m\u001b[1;33m,\u001b[0m\u001b[1;33m\n",
      "\u001b[0m    \u001b[0mkind\u001b[0m\u001b[1;33m=\u001b[0m\u001b[1;34m'linear'\u001b[0m\u001b[1;33m,\u001b[0m\u001b[1;33m\n",
      "\u001b[0m    \u001b[0maxis\u001b[0m\u001b[1;33m=\u001b[0m\u001b[1;33m-\u001b[0m\u001b[1;36m1\u001b[0m\u001b[1;33m,\u001b[0m\u001b[1;33m\n",
      "\u001b[0m    \u001b[0mcopy\u001b[0m\u001b[1;33m=\u001b[0m\u001b[1;32mTrue\u001b[0m\u001b[1;33m,\u001b[0m\u001b[1;33m\n",
      "\u001b[0m    \u001b[0mbounds_error\u001b[0m\u001b[1;33m=\u001b[0m\u001b[1;32mNone\u001b[0m\u001b[1;33m,\u001b[0m\u001b[1;33m\n",
      "\u001b[0m    \u001b[0mfill_value\u001b[0m\u001b[1;33m=\u001b[0m\u001b[0mnan\u001b[0m\u001b[1;33m,\u001b[0m\u001b[1;33m\n",
      "\u001b[0m    \u001b[0massume_sorted\u001b[0m\u001b[1;33m=\u001b[0m\u001b[1;32mFalse\u001b[0m\u001b[1;33m,\u001b[0m\u001b[1;33m\n",
      "\u001b[0m\u001b[1;33m)\u001b[0m\u001b[1;33m\u001b[0m\u001b[1;33m\u001b[0m\u001b[0m\n",
      "\u001b[1;31mDocstring:\u001b[0m     \n",
      "Interpolate a 1-D function.\n",
      "\n",
      ".. legacy:: class\n",
      "\n",
      "    For a guide to the intended replacements for `interp1d` see\n",
      "    :ref:`tutorial-interpolate_1Dsection`.\n",
      "\n",
      "`x` and `y` are arrays of values used to approximate some function f:\n",
      "``y = f(x)``. This class returns a function whose call method uses\n",
      "interpolation to find the value of new points.\n",
      "\n",
      "Parameters\n",
      "----------\n",
      "x : (npoints, ) array_like\n",
      "    A 1-D array of real values.\n",
      "y : (..., npoints, ...) array_like\n",
      "    A N-D array of real values. The length of `y` along the interpolation\n",
      "    axis must be equal to the length of `x`. Use the ``axis`` parameter\n",
      "    to select correct axis. Unlike other interpolators, the default\n",
      "    interpolation axis is the last axis of `y`.\n",
      "kind : str or int, optional\n",
      "    Specifies the kind of interpolation as a string or as an integer\n",
      "    specifying the order of the spline interpolator to use.\n",
      "    The string has to be one of 'linear', 'nearest', 'nearest-up', 'zero',\n",
      "    'slinear', 'quadratic', 'cubic', 'previous', or 'next'. 'zero',\n",
      "    'slinear', 'quadratic' and 'cubic' refer to a spline interpolation of\n",
      "    zeroth, first, second or third order; 'previous' and 'next' simply\n",
      "    return the previous or next value of the point; 'nearest-up' and\n",
      "    'nearest' differ when interpolating half-integers (e.g. 0.5, 1.5)\n",
      "    in that 'nearest-up' rounds up and 'nearest' rounds down. Default\n",
      "    is 'linear'.\n",
      "axis : int, optional\n",
      "    Axis in the ``y`` array corresponding to the x-coordinate values. Unlike\n",
      "    other interpolators, defaults to ``axis=-1``.\n",
      "copy : bool, optional\n",
      "    If True, the class makes internal copies of x and y.\n",
      "    If False, references to `x` and `y` are used. The default is to copy.\n",
      "bounds_error : bool, optional\n",
      "    If True, a ValueError is raised any time interpolation is attempted on\n",
      "    a value outside of the range of x (where extrapolation is\n",
      "    necessary). If False, out of bounds values are assigned `fill_value`.\n",
      "    By default, an error is raised unless ``fill_value=\"extrapolate\"``.\n",
      "fill_value : array-like or (array-like, array_like) or \"extrapolate\", optional\n",
      "    - if a ndarray (or float), this value will be used to fill in for\n",
      "      requested points outside of the data range. If not provided, then\n",
      "      the default is NaN. The array-like must broadcast properly to the\n",
      "      dimensions of the non-interpolation axes.\n",
      "    - If a two-element tuple, then the first element is used as a\n",
      "      fill value for ``x_new < x[0]`` and the second element is used for\n",
      "      ``x_new > x[-1]``. Anything that is not a 2-element tuple (e.g.,\n",
      "      list or ndarray, regardless of shape) is taken to be a single\n",
      "      array-like argument meant to be used for both bounds as\n",
      "      ``below, above = fill_value, fill_value``. Using a two-element tuple\n",
      "      or ndarray requires ``bounds_error=False``.\n",
      "\n",
      "      .. versionadded:: 0.17.0\n",
      "    - If \"extrapolate\", then points outside the data range will be\n",
      "      extrapolated.\n",
      "\n",
      "      .. versionadded:: 0.17.0\n",
      "assume_sorted : bool, optional\n",
      "    If False, values of `x` can be in any order and they are sorted first.\n",
      "    If True, `x` has to be an array of monotonically increasing values.\n",
      "\n",
      "Attributes\n",
      "----------\n",
      "fill_value\n",
      "\n",
      "Methods\n",
      "-------\n",
      "__call__\n",
      "\n",
      "See Also\n",
      "--------\n",
      "splrep, splev\n",
      "    Spline interpolation/smoothing based on FITPACK.\n",
      "UnivariateSpline : An object-oriented wrapper of the FITPACK routines.\n",
      "interp2d : 2-D interpolation\n",
      "\n",
      "Notes\n",
      "-----\n",
      "Calling `interp1d` with NaNs present in input values results in\n",
      "undefined behaviour.\n",
      "\n",
      "Input values `x` and `y` must be convertible to `float` values like\n",
      "`int` or `float`.\n",
      "\n",
      "If the values in `x` are not unique, the resulting behavior is\n",
      "undefined and specific to the choice of `kind`, i.e., changing\n",
      "`kind` will change the behavior for duplicates.\n",
      "\n",
      "\n",
      "Examples\n",
      "--------\n",
      ">>> import numpy as np\n",
      ">>> import matplotlib.pyplot as plt\n",
      ">>> from scipy import interpolate\n",
      ">>> x = np.arange(0, 10)\n",
      ">>> y = np.exp(-x/3.0)\n",
      ">>> f = interpolate.interp1d(x, y)\n",
      "\n",
      ">>> xnew = np.arange(0, 9, 0.1)\n",
      ">>> ynew = f(xnew)   # use interpolation function returned by `interp1d`\n",
      ">>> plt.plot(x, y, 'o', xnew, ynew, '-')\n",
      ">>> plt.show()\n",
      "\u001b[1;31mInit docstring:\u001b[0m Initialize a 1-D linear interpolation class.\n",
      "\u001b[1;31mFile:\u001b[0m           c:\\users\\aayus\\anaconda3\\envs\\my_env_1\\lib\\site-packages\\scipy\\interpolate\\_interpolate.py\n",
      "\u001b[1;31mType:\u001b[0m           type\n",
      "\u001b[1;31mSubclasses:\u001b[0m     "
     ]
    }
   ],
   "source": [
    "interp1d?"
   ]
  },
  {
   "cell_type": "code",
   "execution_count": 25,
   "metadata": {},
   "outputs": [
    {
     "data": {
      "text/plain": [
       "[<matplotlib.lines.Line2D at 0x18a44b8ba40>]"
      ]
     },
     "execution_count": 25,
     "metadata": {},
     "output_type": "execute_result"
    },
    {
     "data": {
      "image/png": "[encoded data removed]",
      "text/plain": [
       "<Figure size 640x480 with 1 Axes>"
      ]
     },
     "metadata": {},
     "output_type": "display_data"
    }
   ],
   "source": [
    "f = interp1d(x,y,kind = 'cubic')\n",
    "x_dense = np.linspace(0,10,100)\n",
    "y_dense = f(x_dense)\n",
    "plt.plot(x_dense, y_dense)"
   ]
  },
  {
   "cell_type": "code",
   "execution_count": 26,
   "metadata": {},
   "outputs": [
    {
     "data": {
      "text/plain": [
       "<matplotlib.collections.PathCollection at 0x18a44b05d00>"
      ]
     },
     "execution_count": 26,
     "metadata": {},
     "output_type": "execute_result"
    },
    {
     "data": {
      "image/png": "[encoded data removed]",
      "text/plain": [
       "<Figure size 640x480 with 1 Axes>"
      ]
     },
     "metadata": {},
     "output_type": "display_data"
    }
   ],
   "source": [
    "#curve fitting\n",
    "from scipy.optimize import curve_fit\n",
    "\n",
    "x_data = np.linspace(0,10,10)\n",
    "y_data = 3*x**2 + 2\n",
    "plt.scatter(x_data,y_data)"
   ]
  },
  {
   "cell_type": "code",
   "execution_count": 27,
   "metadata": {},
   "outputs": [],
   "source": [
    "def func(x, a, b):\n",
    "    return a*x**2 + b\n",
    "\n",
    "popt, pcov = curve_fit(func, x_data, y_data, p0=(1,1))\n"
   ]
  },
  {
   "cell_type": "code",
   "execution_count": 28,
   "metadata": {},
   "outputs": [
    {
     "data": {
      "text/plain": [
       "array([3., 2.])"
      ]
     },
     "execution_count": 28,
     "metadata": {},
     "output_type": "execute_result"
    }
   ],
   "source": [
    "popt"
   ]
  },
  {
   "cell_type": "code",
   "execution_count": 29,
   "metadata": {},
   "outputs": [
    {
     "data": {
      "text/plain": [
       "array([[ 4.13297331e-34, -1.45419433e-32],\n",
       "       [-1.45419433e-32,  9.65872308e-31]])"
      ]
     },
     "execution_count": 29,
     "metadata": {},
     "output_type": "execute_result"
    }
   ],
   "source": [
    "pcov"
   ]
  },
  {
   "cell_type": "code",
   "execution_count": 30,
   "metadata": {},
   "outputs": [],
   "source": [
    "#another example\n",
    "t_data = np.array([ 0.   ,  0.34482759,  0.68965517,  1.03448276,  1.37931034,\n",
    "        1.72413793,  2.06896552,  2.4137931 ,  2.75862069,  3.10344828,\n",
    "        3.44827586,  3.79310345,  4.13793103,  4.48275862,  4.82758621,\n",
    "        5.17241379,  5.51724138,  5.86206897,  6.20689655,  6.55172414,\n",
    "        6.89655172,  7.24137931,  7.5862069 ,  7.93103448,  8.27586207,\n",
    "        8.62068966,  8.96551724,  9.31034483,  9.65517241, 10.        ])\n",
    "y_data = np.array([ 4.3303953 ,  1.61137995, -2.15418696, -3.90137249, -1.67259042,\n",
    "        2.16884383,  3.86635998,  1.85194506, -1.8489224 , -3.96560495,\n",
    "       -2.13385255,  1.59425817,  4.06145238,  1.89300594, -1.76870297,\n",
    "       -4.26791226, -2.46874133,  1.37019912,  4.24945607,  2.27038039,\n",
    "       -1.50299303, -3.46774049, -2.50845488,  1.20022052,  3.81633703,\n",
    "        2.91511556, -1.24569189, -3.72716214, -2.54549857,  0.87262548])"
   ]
  },
  {
   "cell_type": "code",
   "execution_count": 31,
   "metadata": {},
   "outputs": [
    {
     "data": {
      "text/plain": [
       "[<matplotlib.lines.Line2D at 0x18a45371af0>]"
      ]
     },
     "execution_count": 31,
     "metadata": {},
     "output_type": "execute_result"
    },
    {
     "data": {
      "image/png": "[encoded data removed]",
      "text/plain": [
       "<Figure size 640x480 with 1 Axes>"
      ]
     },
     "metadata": {},
     "output_type": "display_data"
    }
   ],
   "source": [
    "plt.plot(t_data, y_data, '--')"
   ]
  },
  {
   "cell_type": "code",
   "execution_count": 32,
   "metadata": {},
   "outputs": [],
   "source": [
    "# We intend to fit this curve to a cosine curve of the form Acos(wt + phi)\n",
    "\n",
    "def func(x, A, w, phi):\n",
    "    return A*np.cos(w*x + phi)\n",
    "\n",
    "popt,pcov = curve_fit(func, t_data, y_data, p0 = (4, np.pi, 0))"
   ]
  },
  {
   "cell_type": "code",
   "execution_count": 33,
   "metadata": {},
   "outputs": [],
   "source": [
    "A, w, phi = popt"
   ]
  },
  {
   "cell_type": "code",
   "execution_count": 34,
   "metadata": {},
   "outputs": [
    {
     "data": {
      "text/plain": [
       "[<matplotlib.lines.Line2D at 0x18a458f7560>]"
      ]
     },
     "execution_count": 34,
     "metadata": {},
     "output_type": "execute_result"
    },
    {
     "data": {
      "image/png": "[encoded data removed]",
      "text/plain": [
       "<Figure size 640x480 with 1 Axes>"
      ]
     },
     "metadata": {},
     "output_type": "display_data"
    }
   ],
   "source": [
    "t = np.linspace(0, 10, 100)\n",
    "y = func(t, A, w, phi)\n",
    "plt.scatter(t_data, y_data)\n",
    "plt.plot(t, y)"
   ]
  },
  {
   "cell_type": "code",
   "execution_count": null,
   "metadata": {},
   "outputs": [],
   "source": [
    "#we need to be very careful about the initial conditions"
   ]
  },
  {
   "cell_type": "code",
   "execution_count": 39,
   "metadata": {},
   "outputs": [
    {
     "ename": "ImportError",
     "evalue": "cannot import name 'findiff' from 'scipy.misc' (c:\\Users\\aayus\\anaconda3\\envs\\my_env_1\\Lib\\site-packages\\scipy\\misc\\__init__.py)",
     "output_type": "error",
     "traceback": [
      "\u001b[1;31m---------------------------------------------------------------------------\u001b[0m",
      "\u001b[1;31mImportError\u001b[0m                               Traceback (most recent call last)",
      "Cell \u001b[1;32mIn[39], line 5\u001b[0m\n\u001b[0;32m      1\u001b[0m \u001b[38;5;66;03m#Calculus \u001b[39;00m\n\u001b[0;32m      2\u001b[0m \u001b[38;5;66;03m#Differentiation\u001b[39;00m\n\u001b[0;32m      4\u001b[0m \u001b[38;5;28;01mfrom\u001b[39;00m \u001b[38;5;21;01mscipy\u001b[39;00m\u001b[38;5;21;01m.\u001b[39;00m\u001b[38;5;21;01mmisc\u001b[39;00m \u001b[38;5;28;01mimport\u001b[39;00m derivative\n\u001b[1;32m----> 5\u001b[0m \u001b[38;5;28;01mfrom\u001b[39;00m \u001b[38;5;21;01mscipy\u001b[39;00m\u001b[38;5;21;01m.\u001b[39;00m\u001b[38;5;21;01mmisc\u001b[39;00m \u001b[38;5;28;01mimport\u001b[39;00m findiff\n",
      "\u001b[1;31mImportError\u001b[0m: cannot import name 'findiff' from 'scipy.misc' (c:\\Users\\aayus\\anaconda3\\envs\\my_env_1\\Lib\\site-packages\\scipy\\misc\\__init__.py)"
     ]
    }
   ],
   "source": [
    "#Calculus \n",
    "#Differentiation\n",
    "\n",
    "from scipy.misc import derivative\n",
    "from scipy.misc import findiff"
   ]
  },
  {
   "cell_type": "code",
   "execution_count": 41,
   "metadata": {},
   "outputs": [
    {
     "name": "stderr",
     "output_type": "stream",
     "text": [
      "C:\\Users\\aayus\\AppData\\Local\\Temp\\ipykernel_17912\\942677022.py:5: DeprecationWarning: scipy.misc.derivative is deprecated in SciPy v1.10.0; and will be completely removed in SciPy v1.12.0. You may consider using findiff: https://github.com/maroba/findiff or numdifftools: https://github.com/pbrod/numdifftools\n",
      "  plt.plot(x, derivative(f, x, dx=1e-9))\n",
      "C:\\Users\\aayus\\AppData\\Local\\Temp\\ipykernel_17912\\942677022.py:6: DeprecationWarning: scipy.misc.derivative is deprecated in SciPy v1.10.0; and will be completely removed in SciPy v1.12.0. You may consider using findiff: https://github.com/maroba/findiff or numdifftools: https://github.com/pbrod/numdifftools\n",
      "  plt.plot(x, derivative(f, x, dx=1e-6, n=2))\n"
     ]
    },
    {
     "data": {
      "text/plain": [
       "[<matplotlib.lines.Line2D at 0x18a45b17fb0>]"
      ]
     },
     "execution_count": 41,
     "metadata": {},
     "output_type": "execute_result"
    },
    {
     "data": {
      "image/png": "[encoded data removed]",
      "text/plain": [
       "<Figure size 640x480 with 1 Axes>"
      ]
     },
     "metadata": {},
     "output_type": "display_data"
    }
   ],
   "source": [
    "def f(x):\n",
    "    return x**2 * np.sin(2*x) * np.exp(-x)\n",
    "x=np.linspace(0, 1, 100)\n",
    "plt.plot(x, f(x))\n",
    "plt.plot(x, derivative(f, x, dx=1e-9))\n",
    "plt.plot(x, derivative(f, x, dx=1e-6, n=2))"
   ]
  },
  {
   "cell_type": "code",
   "execution_count": 42,
   "metadata": {},
   "outputs": [],
   "source": [
    "#Integration\n",
    "\n",
    "from scipy.integrate import quad"
   ]
  },
  {
   "cell_type": "code",
   "execution_count": 43,
   "metadata": {},
   "outputs": [],
   "source": [
    "integrand = lambda x: x**2 * np.sin(2*x) * np.exp(-x)\n",
    "integral, integral_error = quad(integrand, 0, 1)"
   ]
  },
  {
   "cell_type": "code",
   "execution_count": 44,
   "metadata": {},
   "outputs": [
    {
     "data": {
      "text/plain": [
       "0.14558175869954834"
      ]
     },
     "execution_count": 44,
     "metadata": {},
     "output_type": "execute_result"
    }
   ],
   "source": [
    "integral"
   ]
  },
  {
   "cell_type": "code",
   "execution_count": 45,
   "metadata": {},
   "outputs": [],
   "source": [
    "#Double integral\n",
    "from scipy.integrate import dblquad\n"
   ]
  },
  {
   "cell_type": "code",
   "execution_count": 50,
   "metadata": {},
   "outputs": [],
   "source": [
    "integrand = lambda y,x: np.sin(x + y**2)"
   ]
  },
  {
   "cell_type": "code",
   "execution_count": 51,
   "metadata": {},
   "outputs": [],
   "source": [
    "#bounds for y\n",
    "lwr_y = lambda x: -x\n",
    "upr_y = lambda x: x**2\n"
   ]
  },
  {
   "cell_type": "code",
   "execution_count": 52,
   "metadata": {},
   "outputs": [],
   "source": [
    "integral, integral_error = dblquad(integrand, 0, 1, lwr_y, upr_y )"
   ]
  },
  {
   "cell_type": "code",
   "execution_count": 53,
   "metadata": {},
   "outputs": [
    {
     "data": {
      "text/plain": [
       "0.590090324408853"
      ]
     },
     "execution_count": 53,
     "metadata": {},
     "output_type": "execute_result"
    }
   ],
   "source": [
    "integral"
   ]
  },
  {
   "cell_type": "code",
   "execution_count": 54,
   "metadata": {},
   "outputs": [],
   "source": [
    "#Solving differential equations\n",
    "from scipy.integrate import odeint"
   ]
  },
  {
   "cell_type": "code",
   "execution_count": 67,
   "metadata": {},
   "outputs": [
    {
     "ename": "SyntaxError",
     "evalue": "invalid syntax (2254865158.py, line 1)",
     "output_type": "error",
     "traceback": [
      "\u001b[1;36m  Cell \u001b[1;32mIn[67], line 1\u001b[1;36m\u001b[0m\n\u001b[1;33m    **First Order ODEs**\u001b[0m\n\u001b[1;37m    ^\u001b[0m\n\u001b[1;31mSyntaxError\u001b[0m\u001b[1;31m:\u001b[0m invalid syntax\n"
     ]
    }
   ],
   "source": [
    "**First Order ODEs**\n",
    "\n",
    "#Air friction while falling\n",
    "\n",
    "#$$ v' - \\alpha v^2 + \\beta = 0 \\hspace{10mm} v(0) = 0$$"
   ]
  },
  {
   "cell_type": "code",
   "execution_count": 68,
   "metadata": {},
   "outputs": [],
   "source": [
    "#info about diff eqn\n",
    "def dvdt(v, t):\n",
    "    return 3*v**2 - 5\n",
    "v0 = 0\n"
   ]
  },
  {
   "cell_type": "code",
   "execution_count": 70,
   "metadata": {},
   "outputs": [],
   "source": [
    "#solve diff eqn\n",
    "t = np.linspace(0, 1, 100)\n",
    "sol = odeint(dvdt, v0, t)"
   ]
  },
  {
   "cell_type": "code",
   "execution_count": 71,
   "metadata": {},
   "outputs": [
    {
     "data": {
      "text/plain": [
       "numpy.ndarray"
      ]
     },
     "execution_count": 71,
     "metadata": {},
     "output_type": "execute_result"
    }
   ],
   "source": [
    "type(sol)"
   ]
  },
  {
   "cell_type": "code",
   "execution_count": 72,
   "metadata": {},
   "outputs": [
    {
     "data": {
      "text/plain": [
       "array([[ 0.        , -0.05047933, -0.10080451, -0.15082334, -0.20038726,\n",
       "        -0.24935318, -0.29758502, -0.34495519, -0.39134576, -0.43664948,\n",
       "        -0.48077056, -0.52362515, -0.56514164, -0.60526086, -0.6439356 ,\n",
       "        -0.68113064, -0.71682205, -0.75099661, -0.78365109, -0.8147914 ,\n",
       "        -0.84443176, -0.87259378, -0.89930556, -0.92460079, -0.94851787,\n",
       "        -0.97109913, -0.99239002, -1.01243837, -1.03129376, -1.04900692,\n",
       "        -1.06562918, -1.081212  , -1.0958066 , -1.10946355, -1.12223249,\n",
       "        -1.13416195, -1.14529906, -1.15568941, -1.16537698, -1.17440397,\n",
       "        -1.18281086, -1.19063623, -1.19791686, -1.20468768, -1.21098179,\n",
       "        -1.21683053, -1.22226349, -1.22730856, -1.23199199, -1.23633849,\n",
       "        -1.24037122, -1.24411192, -1.24758094, -1.25079735, -1.25377896,\n",
       "        -1.25654241, -1.25910322, -1.2614759 , -1.26367394, -1.26570992,\n",
       "        -1.26759557, -1.26934179, -1.27095869, -1.27245574, -1.27384168,\n",
       "        -1.27512464, -1.2763122 , -1.27741137, -1.27842865, -1.27937009,\n",
       "        -1.28024128, -1.28104744, -1.28179338, -1.28248356, -1.28312213,\n",
       "        -1.28371292, -1.2842595 , -1.28476514, -1.2852329 , -1.28566562,\n",
       "        -1.2860659 , -1.28643616, -1.28677865, -1.28709545, -1.28738847,\n",
       "        -1.28765951, -1.28791021, -1.28814208, -1.28835653, -1.28855487,\n",
       "        -1.28873831, -1.28890797, -1.28906488, -1.28920999, -1.2893442 ,\n",
       "        -1.28946833, -1.28958312, -1.28968929, -1.28978746, -1.28987826]])"
      ]
     },
     "execution_count": 72,
     "metadata": {},
     "output_type": "execute_result"
    }
   ],
   "source": [
    "sol.T"
   ]
  },
  {
   "cell_type": "code",
   "execution_count": 73,
   "metadata": {},
   "outputs": [
    {
     "data": {
      "text/plain": [
       "(100, 1)"
      ]
     },
     "execution_count": 73,
     "metadata": {},
     "output_type": "execute_result"
    }
   ],
   "source": [
    "sol.shape"
   ]
  },
  {
   "cell_type": "code",
   "execution_count": 74,
   "metadata": {},
   "outputs": [
    {
     "data": {
      "text/plain": [
       "(100,)"
      ]
     },
     "execution_count": 74,
     "metadata": {},
     "output_type": "execute_result"
    }
   ],
   "source": [
    "sol.T[0].shape"
   ]
  },
  {
   "cell_type": "code",
   "execution_count": 75,
   "metadata": {},
   "outputs": [],
   "source": [
    "vsol = sol.T[0]"
   ]
  },
  {
   "cell_type": "code",
   "execution_count": 76,
   "metadata": {},
   "outputs": [
    {
     "data": {
      "text/plain": [
       "[<matplotlib.lines.Line2D at 0x18a45b05af0>]"
      ]
     },
     "execution_count": 76,
     "metadata": {},
     "output_type": "execute_result"
    },
    {
     "data": {
      "image/png": "[encoded data removed]",
      "text/plain": [
       "<Figure size 640x480 with 1 Axes>"
      ]
     },
     "metadata": {},
     "output_type": "display_data"
    }
   ],
   "source": [
    "plt.plot(t, vsol)"
   ]
  },
  {
   "cell_type": "code",
   "execution_count": 77,
   "metadata": {},
   "outputs": [],
   "source": [
    "#Coupled First Order DE\n",
    "#info about diff eqn\n",
    "def dSdx(S, x):\n",
    "    y1, y2 = S\n",
    "    return [y1 + y2**2 +3*x, \n",
    "            3*y1 + y2**3 - np.cos(x)]\n",
    "\n",
    "y1_0 = 0\n",
    "y2_0 = 0\n",
    "\n",
    "S_0 = (y1_0, y2_0)"
   ]
  },
  {
   "cell_type": "code",
   "execution_count": 78,
   "metadata": {},
   "outputs": [],
   "source": [
    "x = np.linspace(0, 1, 100)\n",
    "sol = odeint(dSdx, S_0, x)"
   ]
  },
  {
   "cell_type": "code",
   "execution_count": 79,
   "metadata": {},
   "outputs": [
    {
     "data": {
      "text/plain": [
       "(100, 2)"
      ]
     },
     "execution_count": 79,
     "metadata": {},
     "output_type": "execute_result"
    }
   ],
   "source": [
    "sol.shape"
   ]
  },
  {
   "cell_type": "code",
   "execution_count": 80,
   "metadata": {},
   "outputs": [
    {
     "data": {
      "text/plain": [
       "(100,)"
      ]
     },
     "execution_count": 80,
     "metadata": {},
     "output_type": "execute_result"
    }
   ],
   "source": [
    "x.shape"
   ]
  },
  {
   "cell_type": "code",
   "execution_count": 81,
   "metadata": {},
   "outputs": [],
   "source": [
    "y1_sol = sol.T[0]\n",
    "y2_sol = sol.T[1]"
   ]
  },
  {
   "cell_type": "code",
   "execution_count": 82,
   "metadata": {},
   "outputs": [
    {
     "data": {
      "text/plain": [
       "(100,)"
      ]
     },
     "execution_count": 82,
     "metadata": {},
     "output_type": "execute_result"
    }
   ],
   "source": [
    "y1_sol.shape"
   ]
  },
  {
   "cell_type": "code",
   "execution_count": 83,
   "metadata": {},
   "outputs": [
    {
     "data": {
      "text/plain": [
       "[<matplotlib.lines.Line2D at 0x18a45f849e0>]"
      ]
     },
     "execution_count": 83,
     "metadata": {},
     "output_type": "execute_result"
    },
    {
     "data": {
      "image/png": "[encoded data removed]",
      "text/plain": [
       "<Figure size 640x480 with 1 Axes>"
      ]
     },
     "metadata": {},
     "output_type": "display_data"
    }
   ],
   "source": [
    "plt.plot(x, y1_sol)\n",
    "plt.plot(x, y2_sol)"
   ]
  },
  {
   "cell_type": "code",
   "execution_count": null,
   "metadata": {},
   "outputs": [],
   "source": []
  }
 ],
 "metadata": {
  "kernelspec": {
   "display_name": "my_env_1",
   "language": "python",
   "name": "python3"
  },
  "language_info": {
   "codemirror_mode": {
    "name": "ipython",
    "version": 3
   },
   "file_extension": ".py",
   "mimetype": "text/x-python",
   "name": "python",
   "nbconvert_exporter": "python",
   "pygments_lexer": "ipython3",
   "version": "3.12.2"
  }
 },
 "nbformat": 4,
 "nbformat_minor": 2
}
